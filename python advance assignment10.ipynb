{
 "cells": [
  {
   "cell_type": "code",
   "execution_count": null,
   "id": "2f08cf47",
   "metadata": {},
   "outputs": [],
   "source": [
    "#Q1. What is the difference between __getattr__ and __getattribute__?\n",
    "\n",
    "__getattr__() is an object method that is called if the object's properties are not found.It will return \n",
    "property value or throws AttributeError.If the attribute is found through normal mechanism __getattr__() is not called.\n",
    "\n",
    "__getattribute__() is called unconditionally to implement attribute access for the instances of the class.It intercepts \n",
    "every attribute whether it exists or not.\n",
    "If the class also defines __getattr__(), the latter will not be called unless __getattribute__() either calls\n",
    "it explicitly or raises an AttributeError."
   ]
  },
  {
   "cell_type": "code",
   "execution_count": null,
   "id": "0fab95f5",
   "metadata": {},
   "outputs": [],
   "source": [
    "#Q2. What is the difference between properties and descriptors?\n",
    "\n",
    "Descriptor is an attribute value that has one of the methods in the descriptor protocol.\n",
    "Those methods are __get__(), __set__(), and __delete__(). If any of those methods are defined for an attribute,\n",
    "it is said to be a descriptor.\n",
    "With Descriptors, we can bind getter, setter and deleter functions into a separate class. We then assign an\n",
    "object of this class to the attribute name. When we do this, each reference to an attribute looks like simple, \n",
    "direct access, but invokes an appropriate function of the Descriptor object.\n",
    "Descriptors only work when used as class variables. When put in instances, they have no effect.\n",
    "\n",
    "\n",
    "With Properties, we can bind getter, setter and deleter functions with an attribute name, using the built-in\n",
    "property function. When we do this, each reference to an attribute looks like simple, direct access, but invokes \n",
    "the appropriate function of the object.Calling property() is a succinct way of building a data descriptor that\n",
    "triggers a function call upon access to an attribute.\n",
    "property(fget=None, fset=None, fdel=None, doc=None) -> property "
   ]
  },
  {
   "cell_type": "code",
   "execution_count": null,
   "id": "06557095",
   "metadata": {},
   "outputs": [],
   "source": [
    "#Q3. What are the key differences in functionality between __getattr__ and __getattribute__, as well as\n",
    "#properties and descriptors?\n",
    "\n",
    "__getattr__: \n",
    "    Python will call this method whenever you request an attribute that hasn't already been defined.\n",
    "\n",
    "__getattribute__ : \n",
    "    This method will invoke before looking at the actual attributes on the object.If we have __getattribute__ method\n",
    "    in our class,python invokes this method for every attribute regardless whether it exists or not.\n",
    "\n",
    "Properties: \n",
    "    With Properties we can bind getter, setter and delete functions together with an attribute name, using the\n",
    "    built-in property function or @property decorator.When we do this, each reference to an attribute\n",
    "    looks like simple, direct access, but involes the appropriate function of the object.\n",
    "\n",
    "Descriptor: \n",
    "    With Descriptor we can bind getter, setter and delete functions into a seperate class.\n",
    "    we then assign an object of this class to the attribute name in our main class. When we do this, each reference\n",
    "    to an attribute looks like simple, direct access but invokes an appropriate function of descriptor object.\n"
   ]
  }
 ],
 "metadata": {
  "kernelspec": {
   "display_name": "Python 3 (ipykernel)",
   "language": "python",
   "name": "python3"
  },
  "language_info": {
   "codemirror_mode": {
    "name": "ipython",
    "version": 3
   },
   "file_extension": ".py",
   "mimetype": "text/x-python",
   "name": "python",
   "nbconvert_exporter": "python",
   "pygments_lexer": "ipython3",
   "version": "3.10.9"
  }
 },
 "nbformat": 4,
 "nbformat_minor": 5
}
